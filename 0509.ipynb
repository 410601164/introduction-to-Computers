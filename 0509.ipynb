{
  "nbformat": 4,
  "nbformat_minor": 0,
  "metadata": {
    "colab": {
      "name": "0509.ipynb",
      "provenance": [],
      "authorship_tag": "ABX9TyP9X6pV6WDNYNp0iEAhJYaP",
      "include_colab_link": true
    },
    "kernelspec": {
      "name": "python3",
      "display_name": "Python 3"
    },
    "language_info": {
      "name": "python"
    }
  },
  "cells": [
    {
      "cell_type": "markdown",
      "metadata": {
        "id": "view-in-github",
        "colab_type": "text"
      },
      "source": [
        "<a href=\"https://colab.research.google.com/github/410601164/introduction-to-Computers/blob/main/0509.ipynb\" target=\"_parent\"><img src=\"https://colab.research.google.com/assets/colab-badge.svg\" alt=\"Open In Colab\"/></a>"
      ]
    },
    {
      "cell_type": "code",
      "execution_count": 1,
      "metadata": {
        "colab": {
          "base_uri": "https://localhost:8080/"
        },
        "id": "5jGzIIXw7ju1",
        "outputId": "6f27bf74-f0ba-4527-b2d3-41097a011a56"
      },
      "outputs": [
        {
          "output_type": "stream",
          "name": "stdout",
          "text": [
            "123\n"
          ]
        }
      ],
      "source": [
        "print(\"123\")"
      ]
    },
    {
      "cell_type": "code",
      "source": [
        "temp= float(input(\"請輸入你的體溫\"))\n",
        "if temp>=37.5:\n",
        "  print(\"體溫過高!\")\n",
        "elif temp>=37 and temp<37.4:\n",
        "  print(\"體溫略高!\")\n",
        "elif temp>=34 and temp<36.9:\n",
        "  print(\"體溫正常\")\n",
        "else:\n",
        "  print(\"體溫異常,請重新量測!\")"
      ],
      "metadata": {
        "colab": {
          "base_uri": "https://localhost:8080/"
        },
        "id": "gs9aO7i08ppl",
        "outputId": "c4eee517-d2c5-4f7d-ed6c-fe6e5141a32e"
      },
      "execution_count": 3,
      "outputs": [
        {
          "output_type": "stream",
          "name": "stdout",
          "text": [
            "請輸入你的體溫36\n",
            "體溫正常\n"
          ]
        }
      ]
    },
    {
      "cell_type": "code",
      "source": [
        "score= int(input(\"請輸入成績\"))\n",
        "if score>=90:\n",
        "  print(\"A\")\n",
        "elif score>=80 and score<90:\n",
        "  print(\"B\")\n",
        "elif score>=70 and score<80:\n",
        "  print(\"C\")\n",
        "elif score>=60 and score<70:\n",
        "  print(\"C\")\n",
        "else:\n",
        "  print(\"D\")"
      ],
      "metadata": {
        "colab": {
          "base_uri": "https://localhost:8080/"
        },
        "id": "_w2Xh4lY9O01",
        "outputId": "00099301-31f8-40ce-c2e7-45f1e3fcc820"
      },
      "execution_count": 5,
      "outputs": [
        {
          "output_type": "stream",
          "name": "stdout",
          "text": [
            "請輸入成績70\n",
            "C\n"
          ]
        }
      ]
    },
    {
      "cell_type": "code",
      "source": [
        "exp= int(input(\"請輸入購物金額\"))\n",
        "if (exp>=10000):\n",
        "  if(exp>=100000):\n",
        "    print(\"八折\",exp*0.8,end= \"元\\n\")\n",
        "  elif(exp>=50000):\n",
        "    print(\"八五折\",exp*0.85,end=\" 元\\n\")\n",
        "  elif(exp>=30000):\n",
        "    print(\"九折\",exp*0.9,end=\" 元\\n\")\n",
        "  else:\n",
        "    print(\"九五折\",exp*0.95,end=\" 元\\n\")\n",
        "else:\n",
        "  print(\"沒打折\",exp, end=\"元\\n\")\n",
        "  \n"
      ],
      "metadata": {
        "colab": {
          "base_uri": "https://localhost:8080/"
        },
        "id": "QE1xY3frGHwj",
        "outputId": "3d1568a1-303f-4168-f550-f855f34de77a"
      },
      "execution_count": 11,
      "outputs": [
        {
          "output_type": "stream",
          "name": "stdout",
          "text": [
            "請輸入購物金額10000\n",
            "九五折 9500.0 元\n"
          ]
        }
      ]
    },
    {
      "cell_type": "code",
      "source": [
        "e= int(input(\"請輸入今年收入淨額\"))\n",
        "if (e>=300000):\n",
        "  if(e>=2000000):\n",
        "    print(\"付稅金額:\",e*0.3,end= \"元\\n\")\n",
        "  elif(e>=1000000):\n",
        "    print(\"付稅金額:\",e*0.21,end=\" 元\\n\")\n",
        "  elif(e>=600000):\n",
        "    print(\"付稅金額:\",e*0.13,end=\" 元\\n\")\n",
        "  else:\n",
        "    print(\"付稅金額:\",e*0.06,end=\" 元\\n\")\n",
        "else:\n",
        "  print(\"付稅金額\",e*0, end=\"元\\n\")"
      ],
      "metadata": {
        "colab": {
          "base_uri": "https://localhost:8080/"
        },
        "id": "lUXO5A0AJVJk",
        "outputId": "409a4999-fdc5-4c06-e937-2274d358b8a4"
      },
      "execution_count": 13,
      "outputs": [
        {
          "output_type": "stream",
          "name": "stdout",
          "text": [
            "請輸入今年收入淨額100000\n",
            "付稅金額 0元\n"
          ]
        }
      ]
    }
  ]
}